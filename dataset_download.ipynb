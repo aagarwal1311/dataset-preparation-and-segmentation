{
 "cells": [
  {
   "cell_type": "code",
   "execution_count": null,
   "metadata": {},
   "outputs": [
    {
     "name": "stdout",
     "output_type": "stream",
     "text": [
      "Downloading http://images.cocodataset.org/annotations/annotations_trainval2017.zip...\n",
      "Extracting ./coco_subset\\annotations_trainval2017.zip...\n",
      "loading annotations into memory...\n",
      "Done (t=38.24s)\n",
      "creating index...\n",
      "index created!\n",
      "Downloading 8000 images...\n"
     ]
    },
    {
     "name": "stderr",
     "output_type": "stream",
     "text": [
      "100%|██████████| 8000/8000 [3:35:01<00:00,  1.61s/it]   \n"
     ]
    },
    {
     "name": "stdout",
     "output_type": "stream",
     "text": [
      "✅ Done. Saved 8000 images and annotations_subset.json\n"
     ]
    }
   ],
   "source": [
    "import os\n",
    "import json\n",
    "import random\n",
    "import requests\n",
    "import zipfile\n",
    "from tqdm import tqdm\n",
    "from pycocotools.coco import COCO\n",
    "\n",
    "def download_file(url, dest_path):\n",
    "    print(f\"Downloading {url}...\")\n",
    "    r = requests.get(url, stream=True)\n",
    "    with open(dest_path, 'wb') as f:\n",
    "        for chunk in r.iter_content(chunk_size=8192):\n",
    "            if chunk:\n",
    "                f.write(chunk)\n",
    "\n",
    "def unzip_file(zip_path, extract_to):\n",
    "    print(f\"Extracting {zip_path}...\")\n",
    "    with zipfile.ZipFile(zip_path, 'r') as zip_ref:\n",
    "        zip_ref.extractall(extract_to)\n",
    "\n",
    "def download_image(url, path):\n",
    "    try:\n",
    "        img_data = requests.get(url).content\n",
    "        with open(path, 'wb') as handler:\n",
    "            handler.write(img_data)\n",
    "    except Exception as e:\n",
    "        print(f\"Failed to download {url}: {e}\")\n",
    "\n",
    "def download_coco_subset(save_dir, num_images=8000):\n",
    "    os.makedirs(os.path.join(save_dir, \"images\"), exist_ok=True)\n",
    "    annotations_dir = os.path.join(save_dir, \"annotations\")\n",
    "    os.makedirs(annotations_dir, exist_ok=True)\n",
    "\n",
    "    # Step 1: Download and extract annotations if not present\n",
    "    ann_file_path = os.path.join(annotations_dir, \"instances_train2017.json\")\n",
    "    if not os.path.exists(ann_file_path):\n",
    "        zip_url = \"http://images.cocodataset.org/annotations/annotations_trainval2017.zip\"\n",
    "        zip_path = os.path.join(save_dir, \"annotations_trainval2017.zip\")\n",
    "        download_file(zip_url, zip_path)\n",
    "        unzip_file(zip_path, save_dir)\n",
    "\n",
    "    # Step 2: Load COCO annotations\n",
    "    coco = COCO(ann_file_path)\n",
    "    img_ids = coco.getImgIds()\n",
    "    selected_ids = random.sample(img_ids, num_images)\n",
    "\n",
    "    selected_imgs = coco.loadImgs(selected_ids)\n",
    "    all_anns = []\n",
    "\n",
    "    print(f\"Downloading {num_images} images...\")\n",
    "    for img in tqdm(selected_imgs):\n",
    "        url = img['coco_url']\n",
    "        file_name = img['file_name']\n",
    "        out_path = os.path.join(save_dir, \"images\", file_name)\n",
    "        if not os.path.exists(out_path):\n",
    "            download_image(url, out_path)\n",
    "\n",
    "        anns = coco.loadAnns(coco.getAnnIds(imgIds=img['id']))\n",
    "        all_anns.extend(anns)\n",
    "\n",
    "    # Step 3: Save filtered annotations\n",
    "    subset_anns = {\n",
    "        \"info\": {},\n",
    "        \"licenses\": [],\n",
    "        \"images\": selected_imgs,\n",
    "        \"annotations\": all_anns,\n",
    "        \"categories\": coco.loadCats(coco.getCatIds())\n",
    "    }\n",
    "\n",
    "    with open(os.path.join(save_dir, \"annotations_subset.json\"), 'w') as f:\n",
    "        json.dump(subset_anns, f)\n",
    "\n",
    "    print(\"✅ Done. Saved 8000 images and annotations_subset.json\")\n",
    "\n",
    "# Direct call if running in notebook\n",
    "download_coco_subset(\"./coco_subset\", 8000)\n"
   ]
  }
 ],
 "metadata": {
  "kernelspec": {
   "display_name": "Python 3",
   "language": "python",
   "name": "python3"
  },
  "language_info": {
   "codemirror_mode": {
    "name": "ipython",
    "version": 3
   },
   "file_extension": ".py",
   "mimetype": "text/x-python",
   "name": "python",
   "nbconvert_exporter": "python",
   "pygments_lexer": "ipython3",
   "version": "3.12.3"
  }
 },
 "nbformat": 4,
 "nbformat_minor": 2
}
